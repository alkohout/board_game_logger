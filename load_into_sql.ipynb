{
 "cells": [
  {
   "cell_type": "code",
   "execution_count": 55,
   "id": "f8bdf9fc-0730-4698-a7cc-5c0baf0abe48",
   "metadata": {},
   "outputs": [
    {
     "name": "stdout",
     "output_type": "stream",
     "text": [
      "                            Date             game_title\n",
      "0       Monday, January 01, 2023              7 Wonders\n",
      "302     Monday, October 28, 2024              7 Wonders\n",
      "367     Monday, January 01, 2023  7 Wonders: Architects\n",
      "367     Monday, January 01, 2023  7 Wonders: Architects\n",
      "367     Monday, January 01, 2023  7 Wonders: Architects\n",
      "...                          ...                    ...\n",
      "50646   Monday, January 01, 2023               Wingspan\n",
      "50646   Monday, January 01, 2023               Wingspan\n",
      "50646   Monday, January 01, 2023               Wingspan\n",
      "50682  Monday, February 05, 2024               Wingspan\n",
      "51013   Monday, January 01, 2023                Yahtzee\n",
      "\n",
      "[1073 rows x 2 columns]\n"
     ]
    }
   ],
   "source": [
    "import pandas as pd\n",
    "\n",
    "# Read the CSV file\n",
    "df = pd.read_csv('games.csv')\n",
    "\n",
    "# Melt the DataFrame to transform columns to rows\n",
    "df_melted = df.melt(id_vars=['Date'], var_name='game_title', value_name='count')\n",
    "\n",
    "# Convert 'count' column to numeric, coercing errors to NaN (in case of non-numeric values)\n",
    "df_melted['count'] = pd.to_numeric(df_melted['count'], errors='coerce')\n",
    "\n",
    "# Filter out rows where count is zero, NaN, or less than 1\n",
    "df_filtered = df_melted[df_melted['count'] > 0]\n",
    "\n",
    "# Repeat each row based on the 'count' column and drop 'count' column\n",
    "df_expanded = df_filtered.loc[df_filtered.index.repeat(df_filtered['count'])].drop(columns='count')\n",
    "\n",
    "# Save to a new CSV file (optional) or display\n",
    "df_expanded.to_csv('games_played_long_format.csv', index=False)\n",
    "\n",
    "# Display the transformed DataFrame\n",
    "print(df_expanded)\n",
    "\n",
    "\n",
    "\n"
   ]
  },
  {
   "cell_type": "code",
   "execution_count": 57,
   "id": "20fc9883-814d-49fa-a795-701efc8f4c08",
   "metadata": {},
   "outputs": [
    {
     "name": "stdout",
     "output_type": "stream",
     "text": [
      "Data imported successfully.\n"
     ]
    }
   ],
   "source": [
    "import csv\n",
    "import psycopg2\n",
    "from datetime import datetime\n",
    "\n",
    "# Database connection function\n",
    "def get_db_connection():\n",
    "    conn = psycopg2.connect(\n",
    "        host=\"localhost\",\n",
    "        database=\"boardgames\",\n",
    "        user=\"postgres\",\n",
    "        password=\"6601\"  # Replace with your actual password\n",
    "    )\n",
    "    return conn\n",
    "\n",
    "# Function to insert a single record into the games table\n",
    "def insert_record(date, game_title, conn):\n",
    "    cur = conn.cursor()\n",
    "    cur.execute(\"INSERT INTO games (date_played, game_title) VALUES (%s, %s)\", (date, game_title))\n",
    "    conn.commit()\n",
    "\n",
    "# Read CSV and insert into database\n",
    "def import_games_from_csv(csv_file_path):\n",
    "    conn = get_db_connection()\n",
    "    with open(csv_file_path, mode='r') as csv_file:\n",
    "        reader = csv.DictReader(csv_file)\n",
    "        \n",
    "        for row in reader:\n",
    "            # Convert date string to date object, if necessary\n",
    "            date_str = row['Date']\n",
    "            date = datetime.strptime(date_str, '%A, %B %d, %Y').date()  # Adjust format as needed\n",
    "\n",
    "            game_title = row['game_title']\n",
    "\n",
    "            # Insert each row into the database\n",
    "            insert_record(date, game_title, conn)\n",
    "\n",
    "    conn.close()\n",
    "    print(\"Data imported successfully.\")\n",
    "\n",
    "# Specify the path to your CSV file\n",
    "csv_file_path = 'games_played_long_format.csv'  # Replace with the actual path to your CSV file\n",
    "import_games_from_csv(csv_file_path)\n"
   ]
  },
  {
   "cell_type": "code",
   "execution_count": null,
   "id": "ddf5bfdc-2893-4f92-9e38-5139bfc64836",
   "metadata": {},
   "outputs": [],
   "source": [
    "\n"
   ]
  },
  {
   "cell_type": "code",
   "execution_count": null,
   "id": "758790ce-1cd1-4cc1-b652-30603ec5891c",
   "metadata": {},
   "outputs": [],
   "source": []
  }
 ],
 "metadata": {
  "kernelspec": {
   "display_name": "Python 3 (ipykernel)",
   "language": "python",
   "name": "python3"
  },
  "language_info": {
   "codemirror_mode": {
    "name": "ipython",
    "version": 3
   },
   "file_extension": ".py",
   "mimetype": "text/x-python",
   "name": "python",
   "nbconvert_exporter": "python",
   "pygments_lexer": "ipython3",
   "version": "3.11.7"
  }
 },
 "nbformat": 4,
 "nbformat_minor": 5
}
